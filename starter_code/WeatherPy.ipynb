{
 "cells": [
  {
   "cell_type": "markdown",
   "metadata": {},
   "source": [
    "# WeatherPy\n",
    "----\n",
    "\n",
    "### Analysis\n",
    "* As expected, the weather becomes significantly warmer as one approaches the equator (0 Deg. Latitude). More interestingly, however, is the fact that the southern hemisphere tends to be warmer this time of year than the northern hemisphere. This may be due to the tilt of the earth.\n",
    "* There is no strong relationship between latitude and cloudiness. However, it is interesting to see that a strong band of cities sits at 0, 80, and 100% cloudiness.\n",
    "* There is no strong relationship between latitude and wind speed. However, in northern hemispheres there is a flurry of cities with over 20 mph of wind.\n",
    "\n",
    "---\n",
    "\n",
    "#### Note\n",
    "* Instructions have been included for each segment. You do not have to follow them exactly, but they are included to help you think through the steps."
   ]
  },
  {
   "cell_type": "code",
   "execution_count": 1,
   "metadata": {
    "scrolled": true
   },
   "outputs": [],
   "source": [
    "# Dependencies and Setup\n",
    "import matplotlib.pyplot as plt\n",
    "import pandas as pd\n",
    "import numpy as np\n",
    "import requests\n",
    "import time\n",
    "from pprint import pprint\n",
    "# Import API key\n",
    "from api_keys1 import api_key\n",
    "\n",
    "# Incorporated citipy to determine city based on latitude and longitude\n",
    "from citipy import citipy\n",
    "\n",
    "# Output File (CSV)\n",
    "output_data_file = \"output_data/cities.csv\"\n",
    "\n",
    "# Range of latitudes and longitudes\n",
    "lat_range = (-90, 90)\n",
    "lng_range = (-180, 180)"
   ]
  },
  {
   "cell_type": "markdown",
   "metadata": {},
   "source": [
    "## Generate Cities List"
   ]
  },
  {
   "cell_type": "code",
   "execution_count": 2,
   "metadata": {},
   "outputs": [
    {
     "data": {
      "text/plain": [
       "604"
      ]
     },
     "execution_count": 2,
     "metadata": {},
     "output_type": "execute_result"
    }
   ],
   "source": [
    "# List for holding lat_lngs and cities\n",
    "lat_lngs = []\n",
    "cities = []\n",
    "\n",
    "# Create a set of random lat and lng combinations\n",
    "lats = np.random.uniform(low=-90.000, high=90.000, size=1500)\n",
    "lngs = np.random.uniform(low=-180.000, high=180.000, size=1500)\n",
    "lat_lngs = zip(lats, lngs)\n",
    "\n",
    "# Identify nearest city for each lat, lng combination\n",
    "for lat_lng in lat_lngs:\n",
    "    city = citipy.nearest_city(lat_lng[0], lat_lng[1]).city_name\n",
    "    \n",
    "    # If the city is unique, then add it to a our cities list\n",
    "    if city not in cities:\n",
    "        cities.append(city)\n",
    "\n",
    "# Print the city count to confirm sufficient count\n",
    "city_count= len(cities)\n",
    "city_count"
   ]
  },
  {
   "cell_type": "markdown",
   "metadata": {},
   "source": [
    "### Perform API Calls\n",
    "* Perform a weather check on each city using a series of successive API calls.\n",
    "* Include a print log of each city as it'sbeing processed (with the city number and city name).\n"
   ]
  },
  {
   "cell_type": "code",
   "execution_count": 3,
   "metadata": {},
   "outputs": [
    {
     "data": {
      "text/plain": [
       "'11a7cf4c210281a26b8877f975a46436'"
      ]
     },
     "execution_count": 3,
     "metadata": {},
     "output_type": "execute_result"
    }
   ],
   "source": [
    "api_key"
   ]
  },
  {
   "cell_type": "code",
   "execution_count": 4,
   "metadata": {},
   "outputs": [
    {
     "data": {
      "text/html": [
       "<div>\n",
       "<style scoped>\n",
       "    .dataframe tbody tr th:only-of-type {\n",
       "        vertical-align: middle;\n",
       "    }\n",
       "\n",
       "    .dataframe tbody tr th {\n",
       "        vertical-align: top;\n",
       "    }\n",
       "\n",
       "    .dataframe thead th {\n",
       "        text-align: right;\n",
       "    }\n",
       "</style>\n",
       "<table border=\"1\" class=\"dataframe\">\n",
       "  <thead>\n",
       "    <tr style=\"text-align: right;\">\n",
       "      <th></th>\n",
       "      <th>city</th>\n",
       "      <th>latitude</th>\n",
       "      <th>longitude</th>\n",
       "      <th>country</th>\n",
       "      <th>date</th>\n",
       "      <th>cloudiness</th>\n",
       "      <th>humidity</th>\n",
       "      <th>max_temp</th>\n",
       "      <th>wind_speed</th>\n",
       "    </tr>\n",
       "  </thead>\n",
       "  <tbody>\n",
       "  </tbody>\n",
       "</table>\n",
       "</div>"
      ],
      "text/plain": [
       "Empty DataFrame\n",
       "Columns: [city, latitude, longitude, country, date, cloudiness, humidity, max_temp, wind_speed]\n",
       "Index: []"
      ]
     },
     "execution_count": 4,
     "metadata": {},
     "output_type": "execute_result"
    }
   ],
   "source": [
    "#creating lists\n",
    "\n",
    "city_df = pd.DataFrame(columns=['city','latitude', 'longitude', 'country', 'date', 'cloudiness','humidity', \n",
    "                                 'max_temp', 'wind_speed'])\n",
    "\n",
    "city_df.head()\n",
    "#counter\n",
    "\n",
    "\n"
   ]
  },
  {
   "cell_type": "code",
   "execution_count": 5,
   "metadata": {},
   "outputs": [],
   "source": [
    "url = \"http://api.openweathermap.org/data/2.5/weather?\"\n",
    "\n",
    "# Build query URL\n",
    "\n"
   ]
  },
  {
   "cell_type": "code",
   "execution_count": null,
   "metadata": {},
   "outputs": [
    {
     "name": "stdout",
     "output_type": "stream",
     "text": [
      "not found... skipping east london.\n",
      "not found... skipping usinsk.\n",
      "not found... skipping inhambane.\n",
      "not found... skipping hami.\n",
      "not found... skipping vardo.\n",
      "not found... skipping vallenar.\n",
      "not found... skipping kahului.\n",
      "not found... skipping kavieng.\n",
      "not found... skipping chuy.\n",
      "not found... skipping sao filipe.\n",
      "not found... skipping enshi.\n",
      "not found... skipping punta arenas.\n",
      "not found... skipping wlodawa.\n",
      "not found... skipping provideniya.\n",
      "not found... skipping port alfred.\n",
      "not found... skipping najran.\n",
      "not found... skipping albany.\n",
      "not found... skipping vaini.\n",
      "not found... skipping kon tum.\n",
      "not found... skipping quzhou.\n",
      "not found... skipping constitucion.\n",
      "not found... skipping lakatoro.\n",
      "not found... skipping clyde river.\n",
      "not found... skipping fairbanks.\n",
      "not found... skipping rikitea.\n",
      "not found... skipping qaanaaq.\n",
      "not found... skipping port lincoln.\n",
      "not found... skipping awbari.\n",
      "not found... skipping busselton.\n",
      "not found... skipping tuktoyaktuk.\n",
      "not found... skipping saint-philippe.\n",
      "not found... skipping nikolskoye.\n",
      "not found... skipping faanui.\n",
      "not found... skipping atuona.\n",
      "not found... skipping tiksi.\n",
      "not found... skipping mar del plata.\n",
      "not found... skipping belushya guba.\n",
      "not found... skipping cape town.\n",
      "not found... skipping maningrida.\n",
      "not found... skipping aviles.\n",
      "not found... skipping iralaya.\n",
      "not found... skipping barrow.\n",
      "not found... skipping mataura.\n",
      "not found... skipping lebu.\n",
      "not found... skipping la paz.\n",
      "not found... skipping xining.\n",
      "not found... skipping barentsburg.\n",
      "not found... skipping gorno-altaysk.\n",
      "not found... skipping tommot.\n",
      "not found... skipping ixtapa.\n",
      "not found... skipping hilo.\n",
      "not found... skipping bambanglipuro.\n",
      "not found... skipping bluff.\n",
      "not found... skipping karratha.\n",
      "not found... skipping illoqqortoormiut.\n",
      "not found... skipping black forest.\n",
      "not found... skipping sentyabrskiy.\n",
      "not found... skipping rabo de peixe.\n",
      "not found... skipping aklavik.\n",
      "not found... skipping laibin.\n",
      "not found... skipping praia da vitoria.\n",
      "not found... skipping ushuaia.\n",
      "not found... skipping puerto ayora.\n",
      "not found... skipping severo-kurilsk.\n",
      "not found... skipping adrar.\n",
      "not found... skipping castro.\n",
      "not found... skipping guerrero negro.\n",
      "not found... skipping roebourne.\n",
      "not found... skipping new norfolk.\n",
      "not found... skipping abha.\n",
      "not found... skipping sao jose da coroa grande.\n",
      "not found... skipping carnarvon.\n",
      "not found... skipping tessalit.\n",
      "not found... skipping faya.\n",
      "not found... skipping kapaa.\n",
      "not found... skipping umm kaddadah.\n",
      "not found... skipping amderma.\n",
      "not found... skipping yellowknife.\n",
      "not found... skipping jamestown.\n",
      "not found... skipping pevek.\n",
      "not found... skipping avarua.\n",
      "not found... skipping golden.\n",
      "not found... skipping laguna.\n",
      "not found... skipping butaritari.\n",
      "not found... skipping wahran.\n",
      "not found... skipping chokurdakh.\n",
      "not found... skipping hermanus.\n",
      "not found... skipping tateyama.\n",
      "not found... skipping erenhot.\n",
      "not found... skipping viransehir.\n",
      "not found... skipping hobart.\n",
      "not found... skipping tilichiki.\n",
      "not found... skipping port elizabeth.\n",
      "not found... skipping bonavista.\n",
      "not found... skipping cherskiy.\n",
      "not found... skipping mullaitivu.\n",
      "not found... skipping arraial do cabo.\n",
      "not found... skipping svetlaya.\n",
      "not found... skipping sorvag.\n"
     ]
    }
   ],
   "source": [
    "counter= 0\n",
    "for city in cities:\n",
    "    city1 = city.replace(' ','%20')\n",
    "    query_url = url + \"&q=\" + city1\n",
    "    counter = counter + 1\n",
    "    weather = []\n",
    "    \n",
    "    #abstracting lists from json url & setting into dictionary key \n",
    "    try:\n",
    "        response = requests.get(query_url).json()\n",
    "        weather = {'city': city, \n",
    "                'cloudiness': response['clouds']['all'], \n",
    "                'country': response['sys']['country'],\n",
    "                'date': response['dt'],\n",
    "                'humidity': response['main']['humidity'],\n",
    "                'latitude': response['coord']['latitude'],\n",
    "                'longitude': response['coord']['longitude'],\n",
    "                'max_temp': response['main']['temp'],\n",
    "                'wind_speed': response['wind']['speed']}\n",
    "        print(f\"Importing city {counter} of {city_count} || {city}. \") \n",
    "    #adding dataframe for dict\n",
    "        city_df = city_df.append(weather, ignore_index=True)\n",
    "    except (KeyError, IndexError):\n",
    "        print(f\"not found... skipping {city}.\")"
   ]
  },
  {
   "cell_type": "code",
   "execution_count": 9,
   "metadata": {},
   "outputs": [
    {
     "ename": "IndentationError",
     "evalue": "unindent does not match any outer indentation level (<tokenize>, line 15)",
     "output_type": "error",
     "traceback": [
      "\u001b[1;36m  File \u001b[1;32m\"<tokenize>\"\u001b[1;36m, line \u001b[1;32m15\u001b[0m\n\u001b[1;33m    except (KeyError, IndexError):\u001b[0m\n\u001b[1;37m    ^\u001b[0m\n\u001b[1;31mIndentationError\u001b[0m\u001b[1;31m:\u001b[0m unindent does not match any outer indentation level\n"
     ]
    }
   ],
   "source": []
  },
  {
   "cell_type": "code",
   "execution_count": null,
   "metadata": {},
   "outputs": [],
   "source": [
    "#call df\n",
    "\n",
    "city_df.head\n"
   ]
  },
  {
   "cell_type": "markdown",
   "metadata": {},
   "source": [
    "### Convert Raw Data to DataFrame\n",
    "* Export the city data into a .csv.\n",
    "* Display the DataFrame"
   ]
  },
  {
   "cell_type": "code",
   "execution_count": 58,
   "metadata": {},
   "outputs": [
    {
     "data": {
      "text/html": [
       "<div>\n",
       "<style scoped>\n",
       "    .dataframe tbody tr th:only-of-type {\n",
       "        vertical-align: middle;\n",
       "    }\n",
       "\n",
       "    .dataframe tbody tr th {\n",
       "        vertical-align: top;\n",
       "    }\n",
       "\n",
       "    .dataframe thead th {\n",
       "        text-align: right;\n",
       "    }\n",
       "</style>\n",
       "<table border=\"1\" class=\"dataframe\">\n",
       "  <thead>\n",
       "    <tr style=\"text-align: right;\">\n",
       "      <th></th>\n",
       "      <th>city</th>\n",
       "      <th>latitude</th>\n",
       "      <th>longitude</th>\n",
       "      <th>country</th>\n",
       "      <th>date</th>\n",
       "      <th>cloudiness</th>\n",
       "      <th>humidity</th>\n",
       "      <th>max_temp</th>\n",
       "      <th>wind_speed</th>\n",
       "    </tr>\n",
       "  </thead>\n",
       "  <tbody>\n",
       "  </tbody>\n",
       "</table>\n",
       "</div>"
      ],
      "text/plain": [
       "Empty DataFrame\n",
       "Columns: [city, latitude, longitude, country, date, cloudiness, humidity, max_temp, wind_speed]\n",
       "Index: []"
      ]
     },
     "execution_count": 58,
     "metadata": {},
     "output_type": "execute_result"
    }
   ],
   "source": [
    "city_df.to_csv('./cities.csv')\n",
    "city_df.head()"
   ]
  },
  {
   "cell_type": "code",
   "execution_count": null,
   "metadata": {},
   "outputs": [],
   "source": []
  },
  {
   "cell_type": "markdown",
   "metadata": {},
   "source": [
    "### Plotting the Data\n",
    "* Use proper labeling of the plots using plot titles (including date of analysis) and axes labels.\n",
    "* Save the plotted figures as .pngs."
   ]
  },
  {
   "cell_type": "markdown",
   "metadata": {},
   "source": [
    "#### Latitude vs. Temperature Plot"
   ]
  },
  {
   "cell_type": "code",
   "execution_count": null,
   "metadata": {},
   "outputs": [],
   "source": []
  },
  {
   "cell_type": "markdown",
   "metadata": {},
   "source": [
    "#### Latitude vs. Humidity Plot"
   ]
  },
  {
   "cell_type": "code",
   "execution_count": null,
   "metadata": {},
   "outputs": [],
   "source": []
  },
  {
   "cell_type": "markdown",
   "metadata": {},
   "source": [
    "#### Latitude vs. Cloudiness Plot"
   ]
  },
  {
   "cell_type": "code",
   "execution_count": null,
   "metadata": {},
   "outputs": [],
   "source": []
  },
  {
   "cell_type": "markdown",
   "metadata": {},
   "source": [
    "#### Latitude vs. Wind Speed Plot"
   ]
  },
  {
   "cell_type": "code",
   "execution_count": null,
   "metadata": {},
   "outputs": [],
   "source": []
  },
  {
   "cell_type": "code",
   "execution_count": null,
   "metadata": {},
   "outputs": [],
   "source": []
  }
 ],
 "metadata": {
  "anaconda-cloud": {},
  "kernel_info": {
   "name": "python3"
  },
  "kernelspec": {
   "display_name": "Python 3",
   "language": "python",
   "name": "python3"
  },
  "language_info": {
   "codemirror_mode": {
    "name": "ipython",
    "version": 3
   },
   "file_extension": ".py",
   "mimetype": "text/x-python",
   "name": "python",
   "nbconvert_exporter": "python",
   "pygments_lexer": "ipython3",
   "version": "3.7.1"
  },
  "nteract": {
   "version": "0.12.3"
  }
 },
 "nbformat": 4,
 "nbformat_minor": 2
}
