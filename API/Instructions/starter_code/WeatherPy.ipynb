{
 "cells": [
  {
   "cell_type": "markdown",
   "metadata": {},
   "source": [
    "# WeatherPy\n",
    "----\n",
    "\n",
    "### Analysis\n",
    "* As expected, the weather becomes significantly warmer as one approaches the equator (0 Deg. Latitude). More interestingly, however, is the fact that the southern hemisphere tends to be warmer this time of year than the northern hemisphere. This may be due to the tilt of the earth.\n",
    "* There is no strong relationship between latitude and cloudiness. However, it is interesting to see that a strong band of cities sits at 0, 80, and 100% cloudiness.\n",
    "* There is no strong relationship between latitude and wind speed. However, in northern hemispheres there is a flurry of cities with over 20 mph of wind.\n",
    "\n",
    "---\n",
    "\n",
    "#### Note\n",
    "* Instructions have been included for each segment. You do not have to follow them exactly, but they are included to help you think through the steps."
   ]
  },
  {
   "cell_type": "code",
   "execution_count": 1,
   "metadata": {
    "scrolled": true
   },
   "outputs": [],
   "source": [
    "# Dependencies and Setup\n",
    "import matplotlib.pyplot as plt\n",
    "import pandas as pd\n",
    "import numpy as np\n",
    "import requests\n",
    "import time\n",
    "from pprint import pprint\n",
    "# Import API key\n",
    "from api_keys1 import api_key\n",
    "\n",
    "# Incorporated citipy to determine city based on latitude and longitude\n",
    "from citipy import citipy\n",
    "\n",
    "# Output File (CSV)\n",
    "output_data_file = \"output_data/cities.csv\"\n",
    "\n",
    "# Range of latitudes and longitudes\n",
    "lat_range = (-90, 90)\n",
    "lng_range = (-180, 180)"
   ]
  },
  {
   "cell_type": "markdown",
   "metadata": {},
   "source": [
    "## Generate Cities List"
   ]
  },
  {
   "cell_type": "code",
   "execution_count": 2,
   "metadata": {},
   "outputs": [
    {
     "data": {
      "text/plain": [
       "622"
      ]
     },
     "execution_count": 2,
     "metadata": {},
     "output_type": "execute_result"
    }
   ],
   "source": [
    "# List for holding lat_lngs and cities\n",
    "lat_lngs = []\n",
    "cities = []\n",
    "\n",
    "# Create a set of random lat and lng combinations\n",
    "lats = np.random.uniform(low=-90.000, high=90.000, size=1500)\n",
    "lngs = np.random.uniform(low=-180.000, high=180.000, size=1500)\n",
    "lat_lngs = zip(lats, lngs)\n",
    "\n",
    "# Identify nearest city for each lat, lng combination\n",
    "for lat_lng in lat_lngs:\n",
    "    city = citipy.nearest_city(lat_lng[0], lat_lng[1]).city_name\n",
    "    \n",
    "    # If the city is unique, then add it to a our cities list\n",
    "    if city not in cities:\n",
    "        cities.append(city)\n",
    "\n",
    "# Print the city count to confirm sufficient count\n",
    "city_count= len(cities)\n",
    "city_count"
   ]
  },
  {
   "cell_type": "markdown",
   "metadata": {},
   "source": [
    "### Perform API Calls\n",
    "* Perform a weather check on each city using a series of successive API calls.\n",
    "* Include a print log of each city as it'sbeing processed (with the city number and city name).\n"
   ]
  },
  {
   "cell_type": "code",
   "execution_count": 3,
   "metadata": {},
   "outputs": [
    {
     "data": {
      "text/plain": [
       "'11a7cf4c210281a26b8877f975a46436'"
      ]
     },
     "execution_count": 3,
     "metadata": {},
     "output_type": "execute_result"
    }
   ],
   "source": [
    "api_key"
   ]
  },
  {
   "cell_type": "code",
   "execution_count": 4,
   "metadata": {},
   "outputs": [
    {
     "data": {
      "text/html": [
       "<div>\n",
       "<style scoped>\n",
       "    .dataframe tbody tr th:only-of-type {\n",
       "        vertical-align: middle;\n",
       "    }\n",
       "\n",
       "    .dataframe tbody tr th {\n",
       "        vertical-align: top;\n",
       "    }\n",
       "\n",
       "    .dataframe thead th {\n",
       "        text-align: right;\n",
       "    }\n",
       "</style>\n",
       "<table border=\"1\" class=\"dataframe\">\n",
       "  <thead>\n",
       "    <tr style=\"text-align: right;\">\n",
       "      <th></th>\n",
       "      <th>city</th>\n",
       "      <th>latitude</th>\n",
       "      <th>longitude</th>\n",
       "      <th>country</th>\n",
       "      <th>date</th>\n",
       "      <th>cloudiness</th>\n",
       "      <th>humidity</th>\n",
       "      <th>max_temp</th>\n",
       "      <th>wind_speed</th>\n",
       "    </tr>\n",
       "  </thead>\n",
       "  <tbody>\n",
       "  </tbody>\n",
       "</table>\n",
       "</div>"
      ],
      "text/plain": [
       "Empty DataFrame\n",
       "Columns: [city, latitude, longitude, country, date, cloudiness, humidity, max_temp, wind_speed]\n",
       "Index: []"
      ]
     },
     "execution_count": 4,
     "metadata": {},
     "output_type": "execute_result"
    }
   ],
   "source": [
    "#creating lists\n",
    "\n",
    "city_df = pd.DataFrame(columns=['city','latitude', 'longitude', 'country', 'date', 'cloudiness','humidity', \n",
    "                                 'max_temp', 'wind_speed'])\n",
    "\n",
    "city_df.head()\n",
    "#counter\n",
    "\n",
    "\n"
   ]
  },
  {
   "cell_type": "code",
   "execution_count": 5,
   "metadata": {},
   "outputs": [],
   "source": [
    "url = \"http://api.openweathermap.org/data/2.5/weather?\"\n",
    "\n",
    "# Build query URL\n",
    "\n"
   ]
  },
  {
   "cell_type": "code",
   "execution_count": null,
   "metadata": {},
   "outputs": [
    {
     "name": "stdout",
     "output_type": "stream",
     "text": [
      "hobart not found... skipping hobart.\n",
      "east london not found... skipping east london.\n",
      "lucapa not found... skipping lucapa.\n",
      "agua dulce not found... skipping agua dulce.\n",
      "san patricio not found... skipping san patricio.\n",
      "haines junction not found... skipping haines junction.\n",
      "hilo not found... skipping hilo.\n",
      "ribeira brava not found... skipping ribeira brava.\n",
      "taolanaro not found... skipping taolanaro.\n",
      "ourossogui not found... skipping ourossogui.\n",
      "rungata not found... skipping rungata.\n",
      "ribeira grande not found... skipping ribeira grande.\n",
      "cherskiy not found... skipping cherskiy.\n",
      "norman wells not found... skipping norman wells.\n",
      "bambous virieux not found... skipping bambous virieux.\n",
      "constitucion not found... skipping constitucion.\n",
      "mahanje not found... skipping mahanje.\n",
      "salme not found... skipping salme.\n",
      "boden not found... skipping boden.\n",
      "tuktoyaktuk not found... skipping tuktoyaktuk.\n",
      "bilma not found... skipping bilma.\n",
      "pavino not found... skipping pavino.\n",
      "pundaguitan not found... skipping pundaguitan.\n",
      "kovdor not found... skipping kovdor.\n",
      "shubarshi not found... skipping shubarshi.\n",
      "fortuna not found... skipping fortuna.\n",
      "karasjok not found... skipping karasjok.\n",
      "bulgan not found... skipping bulgan.\n",
      "sur not found... skipping sur.\n",
      "saskylakh not found... skipping saskylakh.\n",
      "arawa not found... skipping arawa.\n",
      "fevralsk not found... skipping fevralsk.\n",
      "ushuaia not found... skipping ushuaia.\n",
      "chokwe not found... skipping chokwe.\n",
      "mys shmidta not found... skipping mys shmidta.\n",
      "punta arenas not found... skipping punta arenas.\n",
      "maarianhamina not found... skipping maarianhamina.\n",
      "sumbawa not found... skipping sumbawa.\n",
      "guaruja not found... skipping guaruja.\n",
      "thompson not found... skipping thompson.\n",
      "clyde river not found... skipping clyde river.\n",
      "santiago de cao not found... skipping santiago de cao.\n",
      "carnarvon not found... skipping carnarvon.\n",
      "rikitea not found... skipping rikitea.\n",
      "belmonte not found... skipping belmonte.\n",
      "portland not found... skipping portland.\n",
      "manado not found... skipping manado.\n",
      "xiangfan not found... skipping xiangfan.\n",
      "severnyy not found... skipping severnyy.\n",
      "bluff not found... skipping bluff.\n",
      "barao de melgaco not found... skipping barao de melgaco.\n",
      "anjangaon not found... skipping anjangaon.\n",
      "fare not found... skipping fare.\n",
      "kirakira not found... skipping kirakira.\n",
      "atuona not found... skipping atuona.\n",
      "bethel not found... skipping bethel.\n",
      "tsihombe not found... skipping tsihombe.\n",
      "aklavik not found... skipping aklavik.\n",
      "turbat not found... skipping turbat.\n",
      "terny not found... skipping terny.\n",
      "lagoa not found... skipping lagoa.\n",
      "burica not found... skipping burica.\n",
      "jamestown not found... skipping jamestown.\n",
      "ballina not found... skipping ballina.\n",
      "amga not found... skipping amga.\n",
      "liaozhong not found... skipping liaozhong.\n",
      "codrington not found... skipping codrington.\n",
      "port alfred not found... skipping port alfred.\n",
      "barrow not found... skipping barrow.\n",
      "xinglongshan not found... skipping xinglongshan.\n",
      "mar del plata not found... skipping mar del plata.\n",
      "adrar not found... skipping adrar.\n",
      "georgetown not found... skipping georgetown.\n",
      "torbay not found... skipping torbay.\n",
      "ilembula not found... skipping ilembula.\n",
      "poli not found... skipping poli.\n",
      "hofn not found... skipping hofn.\n",
      "arraial do cabo not found... skipping arraial do cabo.\n",
      "tabou not found... skipping tabou.\n",
      "kudahuvadhoo not found... skipping kudahuvadhoo.\n",
      "hermanus not found... skipping hermanus.\n",
      "prince rupert not found... skipping prince rupert.\n",
      "samana not found... skipping samana.\n",
      "tuatapere not found... skipping tuatapere.\n",
      "bintulu not found... skipping bintulu.\n",
      "kungalv not found... skipping kungalv.\n",
      "tasiilaq not found... skipping tasiilaq.\n",
      "verkh-usugli not found... skipping verkh-usugli.\n",
      "vaitupu not found... skipping vaitupu.\n",
      "ponta do sol not found... skipping ponta do sol.\n",
      "severo-kurilsk not found... skipping severo-kurilsk.\n",
      "illoqqortoormiut not found... skipping illoqqortoormiut.\n",
      "steamboat springs not found... skipping steamboat springs.\n",
      "salinopolis not found... skipping salinopolis.\n",
      "aswan not found... skipping aswan.\n",
      "khatanga not found... skipping khatanga.\n",
      "cine not found... skipping cine.\n",
      "homer not found... skipping homer.\n",
      "opuwo not found... skipping opuwo.\n"
     ]
    }
   ],
   "source": [
    "counter= 0\n",
    "for city in cities:\n",
    "    city1 = city.replace(' ','%20')\n",
    "    query_url = url + \"&q=\" + city1\n",
    "    counter = counter + 1\n",
    "    weather = []\n",
    "    \n",
    "    #abstracting lists from json url & setting into dictionary key \n",
    "    try:\n",
    "        response = requests.get(query_url).json()\n",
    "        weather = {'city': city, \n",
    "                'cloudiness': response['clouds']['all'], \n",
    "                'country': response['sys']['country'],\n",
    "                'date': response['dt'],\n",
    "                'humidity': response['main']['humidity'],\n",
    "                'latitude': response['coord']['latitude'],\n",
    "                'longitude': response['coord']['longitude'],\n",
    "                'max_temp': response['main']['temp'],\n",
    "                'wind_speed': response['wind']['speed']}\n",
    "        print(f\"Importing city {counter} of {city_count} || {city}. \") \n",
    "    #adding dataframe for dict\n",
    "        city_df = city_df.append(weather, ignore_index=True)\n",
    "    except (KeyError, IndexError):\n",
    "        print(f\"{city} not found... skipping {city}.\")"
   ]
  },
  {
   "cell_type": "code",
   "execution_count": 9,
   "metadata": {},
   "outputs": [
    {
     "ename": "IndentationError",
     "evalue": "unindent does not match any outer indentation level (<tokenize>, line 15)",
     "output_type": "error",
     "traceback": [
      "\u001b[1;36m  File \u001b[1;32m\"<tokenize>\"\u001b[1;36m, line \u001b[1;32m15\u001b[0m\n\u001b[1;33m    except (KeyError, IndexError):\u001b[0m\n\u001b[1;37m    ^\u001b[0m\n\u001b[1;31mIndentationError\u001b[0m\u001b[1;31m:\u001b[0m unindent does not match any outer indentation level\n"
     ]
    }
   ],
   "source": []
  },
  {
   "cell_type": "code",
   "execution_count": null,
   "metadata": {},
   "outputs": [],
   "source": [
    "#call df\n",
    "\n",
    "city_df.head\n"
   ]
  },
  {
   "cell_type": "markdown",
   "metadata": {},
   "source": [
    "### Convert Raw Data to DataFrame\n",
    "* Export the city data into a .csv.\n",
    "* Display the DataFrame"
   ]
  },
  {
   "cell_type": "code",
   "execution_count": 58,
   "metadata": {},
   "outputs": [
    {
     "data": {
      "text/html": [
       "<div>\n",
       "<style scoped>\n",
       "    .dataframe tbody tr th:only-of-type {\n",
       "        vertical-align: middle;\n",
       "    }\n",
       "\n",
       "    .dataframe tbody tr th {\n",
       "        vertical-align: top;\n",
       "    }\n",
       "\n",
       "    .dataframe thead th {\n",
       "        text-align: right;\n",
       "    }\n",
       "</style>\n",
       "<table border=\"1\" class=\"dataframe\">\n",
       "  <thead>\n",
       "    <tr style=\"text-align: right;\">\n",
       "      <th></th>\n",
       "      <th>city</th>\n",
       "      <th>latitude</th>\n",
       "      <th>longitude</th>\n",
       "      <th>country</th>\n",
       "      <th>date</th>\n",
       "      <th>cloudiness</th>\n",
       "      <th>humidity</th>\n",
       "      <th>max_temp</th>\n",
       "      <th>wind_speed</th>\n",
       "    </tr>\n",
       "  </thead>\n",
       "  <tbody>\n",
       "  </tbody>\n",
       "</table>\n",
       "</div>"
      ],
      "text/plain": [
       "Empty DataFrame\n",
       "Columns: [city, latitude, longitude, country, date, cloudiness, humidity, max_temp, wind_speed]\n",
       "Index: []"
      ]
     },
     "execution_count": 58,
     "metadata": {},
     "output_type": "execute_result"
    }
   ],
   "source": [
    "city_df.to_csv('./cities.csv')\n",
    "city_df.head()"
   ]
  },
  {
   "cell_type": "code",
   "execution_count": null,
   "metadata": {},
   "outputs": [],
   "source": []
  },
  {
   "cell_type": "markdown",
   "metadata": {},
   "source": [
    "### Plotting the Data\n",
    "* Use proper labeling of the plots using plot titles (including date of analysis) and axes labels.\n",
    "* Save the plotted figures as .pngs."
   ]
  },
  {
   "cell_type": "markdown",
   "metadata": {},
   "source": [
    "#### Latitude vs. Temperature Plot"
   ]
  },
  {
   "cell_type": "code",
   "execution_count": null,
   "metadata": {},
   "outputs": [],
   "source": []
  },
  {
   "cell_type": "markdown",
   "metadata": {},
   "source": [
    "#### Latitude vs. Humidity Plot"
   ]
  },
  {
   "cell_type": "code",
   "execution_count": null,
   "metadata": {},
   "outputs": [],
   "source": []
  },
  {
   "cell_type": "markdown",
   "metadata": {},
   "source": [
    "#### Latitude vs. Cloudiness Plot"
   ]
  },
  {
   "cell_type": "code",
   "execution_count": null,
   "metadata": {},
   "outputs": [],
   "source": []
  },
  {
   "cell_type": "markdown",
   "metadata": {},
   "source": [
    "#### Latitude vs. Wind Speed Plot"
   ]
  },
  {
   "cell_type": "code",
   "execution_count": null,
   "metadata": {},
   "outputs": [],
   "source": []
  },
  {
   "cell_type": "code",
   "execution_count": null,
   "metadata": {},
   "outputs": [],
   "source": []
  }
 ],
 "metadata": {
  "anaconda-cloud": {},
  "kernel_info": {
   "name": "python3"
  },
  "kernelspec": {
   "display_name": "Python 3",
   "language": "python",
   "name": "python3"
  },
  "language_info": {
   "codemirror_mode": {
    "name": "ipython",
    "version": 3
   },
   "file_extension": ".py",
   "mimetype": "text/x-python",
   "name": "python",
   "nbconvert_exporter": "python",
   "pygments_lexer": "ipython3",
   "version": "3.7.1"
  },
  "nteract": {
   "version": "0.12.3"
  }
 },
 "nbformat": 4,
 "nbformat_minor": 2
}
